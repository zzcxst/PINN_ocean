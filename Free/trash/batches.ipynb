{
 "cells": [
  {
   "cell_type": "code",
   "execution_count": 21,
   "id": "f7399f40-7910-4051-bd65-761fbb153c2b",
   "metadata": {},
   "outputs": [],
   "source": [
    "import numpy as np\n",
    "import scipy\n",
    "import torch\n",
    "from torch import nn\n",
    "from torch.utils.data import DataLoader, Dataset\n",
    "import matplotlib\n",
    "import matplotlib.pyplot as plt\n",
    "from tqdm import tqdm\n",
    "\n",
    "from utils.compl_cal import compl_mul, compl_div\n",
    "from utils.PINNnet import sine_init, first_layer_sine_init, PINN\n",
    "from utils.plot_func import plot_field, model_pred, plot_error_field\n",
    "\n",
    "device = 'cuda' if torch.cuda.is_available() else 'cpu'"
   ]
  },
  {
   "cell_type": "code",
   "execution_count": 22,
   "id": "efa4500b-859c-445d-b84d-83b1c3721304",
   "metadata": {},
   "outputs": [],
   "source": [
    "# fixed parameters\n",
    "L = 1\n",
    "Lx, Ly = L, L\n",
    "src = [0, 0]\n",
    "k = 20"
   ]
  },
  {
   "cell_type": "code",
   "execution_count": 25,
   "id": "b01ffd04-fa37-43b5-bcec-99b56f839d46",
   "metadata": {},
   "outputs": [],
   "source": [
    "## hyperparameter\n",
    "n_in = 2 \n",
    "n_out = 2\n",
    "n_hiddens = 256\n",
    "n_layers = 5\n",
    "n_epochs = int(2e2)\n",
    "learning_rate = 2e-5"
   ]
  },
  {
   "cell_type": "code",
   "execution_count": 26,
   "id": "411b333d-fc19-49ed-b434-b8c71409dfc3",
   "metadata": {
    "jupyter": {
     "source_hidden": true
    }
   },
   "outputs": [],
   "source": [
    "def loss_grad_norm(loss, model):\n",
    "    loss_grad_norm = 0\n",
    "    loss_clone = loss.clone()\n",
    "    for params in model.parameters():\n",
    "        loss_grad = torch.autograd.grad(loss_clone, params, retain_graph=True, allow_unused=True, materialize_grads=True)[0]\n",
    "        loss_grad_norm += torch.sum(loss_grad**2)\n",
    "    loss_grad_norm = loss_grad_norm**0.5\n",
    "    loss_grad_norm = loss_grad_norm.detach()\n",
    "    return loss_grad_norm\n",
    "\n",
    "def update_lambda(model, loss_lst, lamb_lst, alpha):\n",
    "    grad = []\n",
    "    for loss in loss_lst:\n",
    "        grad.append(loss_grad_norm(loss, model))\n",
    "    grad_sum = sum(grad)\n",
    "    lamb = []\n",
    "    for i in range(len(grad)):\n",
    "        lamb_hat = grad_sum / grad[i]\n",
    "        if torch.isnan(lamb_hat) or torch.isinf(lamb_hat):\n",
    "            lamb_hat = torch.ones_like(lamb_hat)\n",
    "        lamb_new = alpha*lamb_lst[i] + (1-alpha)*lamb_hat\n",
    "        lamb.append(lamb_new)\n",
    "    return lamb"
   ]
  },
  {
   "cell_type": "code",
   "execution_count": 27,
   "id": "a91ae053-144f-4099-8ee9-b95ca3a7946f",
   "metadata": {},
   "outputs": [],
   "source": [
    "class get_dataset(Dataset):\n",
    "    def __init__(self, k, src=[0., 0.], std=0.01, n_samples=100000, n_bound_samples=500):\n",
    "        super().__init__()\n",
    "        self.k = k\n",
    "        self.std = std\n",
    "        self.n_src = 5000\n",
    "        self.n_samples = n_samples\n",
    "        self.n_bound = n_bound_samples\n",
    "        self.src = src\n",
    "\n",
    "    def green(self, x, y, is_tensor=True):\n",
    "        if is_tensor:\n",
    "            r = torch.sqrt((x-self.src[0]) ** 2 + (y-self.src[1]) ** 2)\n",
    "            r = r.to('cpu').detach().numpy()\n",
    "            hankel = scipy.special.hankel2(0, self.k * r + 1e-6)\n",
    "            g = 0.25j * hankel\n",
    "            g_real, g_imag = g.real, g.imag\n",
    "            g_real, g_imag = torch.tensor(g_real), torch.tensor(g_imag)\n",
    "            g = torch.cat([g_real, g_imag], dim=-1)\n",
    "        else:\n",
    "            r = np.sqrt((x-self.src[0]) ** 2 + (y-self.src[1]) ** 2)\n",
    "            hankel = scipy.special.hankel2(0, self.k * r + 1e-6)\n",
    "            g = 0.25j * hankel\n",
    "            g_real, g_imag = g.real, g.imag\n",
    "            g = np.concatenate([g_real, g_imag], axis=-1)\n",
    "        return g\n",
    "\n",
    "    def __len__(self):\n",
    "        return 1\n",
    "\n",
    "    def __getitem__(self, idx):\n",
    "        torch.manual_seed(idx)\n",
    "        coords = torch.zeros(self.n_samples, 2).uniform_(-1., 1.)\n",
    "        r, theta = 0.05 * torch.rand(self.n_src, 1), 2 * np.pi * torch.rand(self.n_src, 1)\n",
    "        x_src, y_src = r * torch.cos(theta) + self.src[0], r * torch.sin(theta) + self.src[1]\n",
    "        coords_src = torch.cat([x_src, y_src], dim=-1)\n",
    "        coords[-self.n_src:, :] = coords_src\n",
    "\n",
    "        ref = self.green(coords[:, 0:1], coords[:, 1:2], self.src)\n",
    "        f = 1 / (2 * np.pi * self.std ** 2) * torch.exp(-0.5 * (((coords[:, 0:1] - self.src[0])/self.std)**2 + ((coords[:, 1:2] - self.src[1])/self.std)**2))\n",
    "        f = torch.cat([f, torch.zeros_like(f)], dim=-1)\n",
    "        gt = torch.cat([coords, ref, f], dim=-1)\n",
    "\n",
    "        coords_top = torch.ones(self.n_bound, 2)\n",
    "        coords_bot = -torch.ones(self.n_bound, 2)\n",
    "        coords_right = torch.ones(self.n_bound, 2)\n",
    "        coords_left = -torch.ones(self.n_bound, 2)\n",
    "        coords_top[:, 0:1] = torch.linspace(-1., 1., self.n_bound).reshape(-1, 1)\n",
    "        coords_bot[:, 0:1] = torch.linspace(-1., 1., self.n_bound).reshape(-1, 1)\n",
    "        coords_right[:, 1:2] = torch.linspace(-1., 1., self.n_bound).reshape(-1, 1)\n",
    "        coords_left[:, 1:2] = torch.linspace(-1., 1., self.n_bound).reshape(-1, 1)\n",
    "        \n",
    "        return {'gt': gt},{\n",
    "                'coords_boundary': {\n",
    "                'top': coords_top,\n",
    "                'bot': coords_bot,\n",
    "                'right': coords_right,\n",
    "                'left': coords_left\n",
    "        }\n",
    "    }"
   ]
  },
  {
   "cell_type": "code",
   "execution_count": 28,
   "id": "92cf57cc-39e9-4f6b-bd5b-01625fdcbae1",
   "metadata": {},
   "outputs": [],
   "source": [
    "dataset = get_dataset(k=20, src=[0., 0.], n_samples=250000, n_bound_samples=500)\n",
    "dataloader = DataLoader(dataset[0][0]['gt'], batch_size=5000, shuffle=True)\n",
    "boundary = dataset[0][1]['coords_boundary']"
   ]
  },
  {
   "cell_type": "code",
   "execution_count": 29,
   "id": "5cd7bc5d-e572-44d7-a9f5-9434450f446c",
   "metadata": {},
   "outputs": [],
   "source": [
    "def loss_fn(model, xy, f, k, L_pml=0.5, std=0.01, sigma0=5, device=device):\n",
    "    x, y = xy[:, 0:1].to(device).requires_grad_(True), xy[:, 1:2].to(device).requires_grad_(True)\n",
    "    \n",
    "    p = model(torch.cat([x, y], dim=-1))\n",
    "    px_real = torch.autograd.grad(p[:, 0:1].sum(), x, create_graph=True)[0]\n",
    "    px_imag = torch.autograd.grad(p[:, 1:2].sum(), x, create_graph=True)[0]\n",
    "    px = torch.cat([px_real, px_imag], dim=-1)\n",
    "    pxx_real = torch.autograd.grad(px[:, 0:1].sum(), x, create_graph=True)[0]\n",
    "    pxx_imag = torch.autograd.grad(px[:, 1:2].sum(), x, create_graph=True)[0]\n",
    "    pxx = torch.cat([pxx_real, pxx_imag], dim=-1)\n",
    "    py_real = torch.autograd.grad(p[:, 0:1].sum(), y, create_graph=True)[0]\n",
    "    py_imag = torch.autograd.grad(p[:, 1:2].sum(), y, create_graph=True)[0]\n",
    "    py = torch.cat([py_real, py_imag], dim=-1)\n",
    "    pyy_real = torch.autograd.grad(py[:, 0:1].sum(), y, create_graph=True)[0]\n",
    "    pyy_imag = torch.autograd.grad(py[:, 1:2].sum(), y, create_graph=True)[0]\n",
    "    pyy = torch.cat([pyy_real, pyy_imag], dim=-1)\n",
    "\n",
    "    f = f.to(device)\n",
    "    res = pxx + pyy + k**2 * p - f\n",
    "\n",
    "    return (res ** 2).mean()\n",
    "\n",
    "def loss_boundary(model, boundary, k):\n",
    "    # top\n",
    "    x = boundary['top'][:, 0:1].to(device).requires_grad_(True)\n",
    "    y = boundary['top'][:, 1:2].to(device).requires_grad_(True)\n",
    "    p = model(torch.cat([x, y], dim=-1))\n",
    "    py_real = torch.autograd.grad(p[:, 0:1].sum(), y, create_graph=True)[0]\n",
    "    py_imag = torch.autograd.grad(p[:, 1:2].sum(), y, create_graph=True)[0]\n",
    "    res1 = (py_real + k * p[:, 1:2]) ** 2 + (py_imag - k * p[:, 0:1]) ** 2\n",
    "    # bottom\n",
    "    x = boundary['bot'][:, 0:1].to(device).requires_grad_(True)\n",
    "    y = boundary['bot'][:, 1:2].to(device).requires_grad_(True)\n",
    "    p = model(torch.cat([x, y], dim=-1))\n",
    "    py_real = torch.autograd.grad(p[:, 0:1].sum(), y, create_graph=True)[0]\n",
    "    py_imag = torch.autograd.grad(p[:, 1:2].sum(), y, create_graph=True)[0]\n",
    "    res2 = (py_real - k * p[:, 1:2]) ** 2 + (py_imag + k * p[:, 0:1]) ** 2\n",
    "    # right\n",
    "    x = boundary['right'][:, 0:1].to(device).requires_grad_(True)\n",
    "    y = boundary['right'][:, 1:2].to(device).requires_grad_(True)\n",
    "    p = model(torch.cat([x, y], dim=-1))\n",
    "    px_real = torch.autograd.grad(p[:, 0:1].sum(), x, create_graph=True)[0]\n",
    "    px_imag = torch.autograd.grad(p[:, 1:2].sum(), x, create_graph=True)[0]\n",
    "    res3 = (px_real + k * p[:, 1:2]) ** 2 + (px_imag - k * p[:, 0:1]) ** 2\n",
    "    # left\n",
    "    x = boundary['left'][:, 0:1].to(device).requires_grad_(True)\n",
    "    y = boundary['left'][:, 1:2].to(device).requires_grad_(True)\n",
    "    p = model(torch.cat([x, y], dim=-1))\n",
    "    px_real = torch.autograd.grad(p[:, 0:1].sum(), x, create_graph=True)[0]\n",
    "    px_imag = torch.autograd.grad(p[:, 1:2].sum(), x, create_graph=True)[0]\n",
    "    res4 = (px_real - k * p[:, 1:2]) ** 2 + (px_imag + k * p[:, 0:1]) ** 2\n",
    "\n",
    "    return (res1 + res2 + res3 + res4).mean()"
   ]
  },
  {
   "cell_type": "code",
   "execution_count": 30,
   "id": "ef84ab0d-9f77-40c8-865b-736823f525ac",
   "metadata": {},
   "outputs": [],
   "source": [
    "model = PINN(n_in, n_out, n_hiddens, n_layers).to(device)\n",
    "model.apply(sine_init)\n",
    "model.net[0].apply(first_layer_sine_init)\n",
    "optimizer = torch.optim.Adam(model.parameters(), lr=learning_rate)\n",
    "l_lst = []\n",
    "lamb = [1, 1]\n",
    "l_pde, l_bd, l_real = [], [], []"
   ]
  },
  {
   "cell_type": "code",
   "execution_count": 34,
   "id": "676102f9-3b8b-4f39-8da5-90ccc8f0ca1b",
   "metadata": {
    "scrolled": true
   },
   "outputs": [
    {
     "name": "stderr",
     "output_type": "stream",
     "text": [
      "  0%|          | 1/200 [00:05<17:39,  5.32s/it]"
     ]
    },
    {
     "name": "stdout",
     "output_type": "stream",
     "text": [
      "Epoch 1, Loss: 2.096252679824829, test_Loss: 19.474102020263672, pde_Loss: 2.0385680198669434, boundary_Loss: 5.111225164000643e-06\n"
     ]
    },
    {
     "name": "stderr",
     "output_type": "stream",
     "text": [
      "  1%|          | 2/200 [00:10<17:50,  5.41s/it]"
     ]
    },
    {
     "name": "stdout",
     "output_type": "stream",
     "text": [
      "Epoch 2, Loss: 2.008317232131958, test_Loss: 18.829105377197266, pde_Loss: 1.9766786098480225, boundary_Loss: 2.9394557259365683e-06\n"
     ]
    },
    {
     "name": "stderr",
     "output_type": "stream",
     "text": [
      "  2%|▏         | 3/200 [00:16<17:47,  5.42s/it]"
     ]
    },
    {
     "name": "stdout",
     "output_type": "stream",
     "text": [
      "Epoch 3, Loss: 2.129812717437744, test_Loss: 18.449871063232422, pde_Loss: 1.9246021509170532, boundary_Loss: 1.599429924681317e-05\n"
     ]
    },
    {
     "name": "stderr",
     "output_type": "stream",
     "text": [
      "  2%|▏         | 4/200 [00:21<17:45,  5.44s/it]"
     ]
    },
    {
     "name": "stdout",
     "output_type": "stream",
     "text": [
      "Epoch 4, Loss: 2.009307861328125, test_Loss: 18.469432830810547, pde_Loss: 1.951906442642212, boundary_Loss: 4.884422651230125e-06\n"
     ]
    },
    {
     "name": "stderr",
     "output_type": "stream",
     "text": [
      "  2%|▎         | 5/200 [00:27<17:41,  5.45s/it]"
     ]
    },
    {
     "name": "stdout",
     "output_type": "stream",
     "text": [
      "Epoch 5, Loss: 5.599399566650391, test_Loss: 18.210969924926758, pde_Loss: 4.076411724090576, boundary_Loss: 0.00013519231288228184\n"
     ]
    },
    {
     "name": "stderr",
     "output_type": "stream",
     "text": [
      "  3%|▎         | 6/200 [00:32<17:42,  5.48s/it]"
     ]
    },
    {
     "name": "stdout",
     "output_type": "stream",
     "text": [
      "Epoch 6, Loss: 12.506265640258789, test_Loss: 19.345365524291992, pde_Loss: 2.1390795707702637, boundary_Loss: 0.0008467236184515059\n"
     ]
    },
    {
     "name": "stderr",
     "output_type": "stream",
     "text": [
      "  4%|▎         | 7/200 [00:38<17:45,  5.52s/it]"
     ]
    },
    {
     "name": "stdout",
     "output_type": "stream",
     "text": [
      "Epoch 7, Loss: 1.8174548149108887, test_Loss: 18.262596130371094, pde_Loss: 1.7953031063079834, boundary_Loss: 1.8849103753382224e-06\n"
     ]
    },
    {
     "name": "stderr",
     "output_type": "stream",
     "text": [
      "  4%|▍         | 8/200 [00:44<17:59,  5.62s/it]"
     ]
    },
    {
     "name": "stdout",
     "output_type": "stream",
     "text": [
      "Epoch 8, Loss: 1.7315442562103271, test_Loss: 18.454757690429688, pde_Loss: 1.7179561853408813, boundary_Loss: 1.2218949905218324e-06\n"
     ]
    },
    {
     "name": "stderr",
     "output_type": "stream",
     "text": [
      "  4%|▍         | 9/200 [00:49<18:03,  5.67s/it]"
     ]
    },
    {
     "name": "stdout",
     "output_type": "stream",
     "text": [
      "Epoch 9, Loss: 1.8067516088485718, test_Loss: 18.9554443359375, pde_Loss: 1.7860345840454102, boundary_Loss: 2.0252603007975267e-06\n"
     ]
    },
    {
     "name": "stderr",
     "output_type": "stream",
     "text": [
      "  5%|▌         | 10/200 [00:55<18:13,  5.76s/it]"
     ]
    },
    {
     "name": "stdout",
     "output_type": "stream",
     "text": [
      "Epoch 10, Loss: 1368.1536865234375, test_Loss: 19.031314849853516, pde_Loss: 53.401100158691406, boundary_Loss: 0.10875767469406128\n"
     ]
    },
    {
     "name": "stderr",
     "output_type": "stream",
     "text": [
      "  6%|▌         | 11/200 [01:01<18:12,  5.78s/it]"
     ]
    },
    {
     "name": "stdout",
     "output_type": "stream",
     "text": [
      "Epoch 11, Loss: 25.648786544799805, test_Loss: 20.561323165893555, pde_Loss: 21.336864471435547, boundary_Loss: 0.0003932404506485909\n"
     ]
    },
    {
     "name": "stderr",
     "output_type": "stream",
     "text": [
      "  6%|▌         | 12/200 [01:07<18:21,  5.86s/it]"
     ]
    },
    {
     "name": "stdout",
     "output_type": "stream",
     "text": [
      "Epoch 12, Loss: 10.75001049041748, test_Loss: 21.003366470336914, pde_Loss: 10.465041160583496, boundary_Loss: 2.747751568676904e-05\n"
     ]
    },
    {
     "name": "stderr",
     "output_type": "stream",
     "text": [
      "  6%|▋         | 13/200 [01:13<18:28,  5.93s/it]"
     ]
    },
    {
     "name": "stdout",
     "output_type": "stream",
     "text": [
      "Epoch 13, Loss: 7.2876667976379395, test_Loss: 19.37726593017578, pde_Loss: 7.10707950592041, boundary_Loss: 1.7004804249154404e-05\n"
     ]
    },
    {
     "name": "stderr",
     "output_type": "stream",
     "text": [
      "  7%|▋         | 14/200 [01:19<18:27,  5.95s/it]"
     ]
    },
    {
     "name": "stdout",
     "output_type": "stream",
     "text": [
      "Epoch 14, Loss: 5.781449317932129, test_Loss: 20.60011863708496, pde_Loss: 5.650714874267578, boundary_Loss: 1.2274178516236134e-05\n"
     ]
    },
    {
     "name": "stderr",
     "output_type": "stream",
     "text": [
      "  8%|▊         | 15/200 [01:25<18:21,  5.95s/it]"
     ]
    },
    {
     "name": "stdout",
     "output_type": "stream",
     "text": [
      "Epoch 15, Loss: 4.883211612701416, test_Loss: 19.62419891357422, pde_Loss: 4.76229190826416, boundary_Loss: 9.307861546403728e-06\n"
     ]
    },
    {
     "name": "stderr",
     "output_type": "stream",
     "text": [
      "  8%|▊         | 16/200 [01:31<18:23,  6.00s/it]"
     ]
    },
    {
     "name": "stdout",
     "output_type": "stream",
     "text": [
      "Epoch 16, Loss: 4.169200420379639, test_Loss: 20.333030700683594, pde_Loss: 4.071920394897461, boundary_Loss: 7.454217666236218e-06\n"
     ]
    },
    {
     "name": "stderr",
     "output_type": "stream",
     "text": [
      "  8%|▊         | 17/200 [01:38<18:29,  6.06s/it]"
     ]
    },
    {
     "name": "stdout",
     "output_type": "stream",
     "text": [
      "Epoch 17, Loss: 3.9539453983306885, test_Loss: 19.593040466308594, pde_Loss: 3.872898817062378, boundary_Loss: 6.196863523655338e-06\n"
     ]
    },
    {
     "name": "stderr",
     "output_type": "stream",
     "text": [
      "  9%|▉         | 18/200 [01:44<18:28,  6.09s/it]"
     ]
    },
    {
     "name": "stdout",
     "output_type": "stream",
     "text": [
      "Epoch 18, Loss: 3.620600938796997, test_Loss: 19.708498001098633, pde_Loss: 3.5399975776672363, boundary_Loss: 5.0639418986975215e-06\n"
     ]
    },
    {
     "name": "stderr",
     "output_type": "stream",
     "text": [
      " 10%|▉         | 19/200 [01:50<18:28,  6.12s/it]"
     ]
    },
    {
     "name": "stdout",
     "output_type": "stream",
     "text": [
      "Epoch 19, Loss: 3.381516933441162, test_Loss: 19.915058135986328, pde_Loss: 3.2320785522460938, boundary_Loss: 7.397930403385544e-06\n"
     ]
    },
    {
     "name": "stderr",
     "output_type": "stream",
     "text": [
      " 10%|█         | 20/200 [01:56<18:29,  6.16s/it]"
     ]
    },
    {
     "name": "stdout",
     "output_type": "stream",
     "text": [
      "Epoch 20, Loss: 3.1335349082946777, test_Loss: 18.575992584228516, pde_Loss: 3.0697543621063232, boundary_Loss: 3.4412346394674387e-06\n"
     ]
    },
    {
     "name": "stderr",
     "output_type": "stream",
     "text": [
      " 10%|█         | 21/200 [02:02<18:22,  6.16s/it]"
     ]
    },
    {
     "name": "stdout",
     "output_type": "stream",
     "text": [
      "Epoch 21, Loss: 2.89050555229187, test_Loss: 19.136568069458008, pde_Loss: 2.8332293033599854, boundary_Loss: 3.0044952836760785e-06\n"
     ]
    },
    {
     "name": "stderr",
     "output_type": "stream",
     "text": [
      " 11%|█         | 22/200 [02:09<18:20,  6.18s/it]"
     ]
    },
    {
     "name": "stdout",
     "output_type": "stream",
     "text": [
      "Epoch 22, Loss: 9.133076667785645, test_Loss: 19.595279693603516, pde_Loss: 3.6153252124786377, boundary_Loss: 0.0002798323112074286\n"
     ]
    },
    {
     "name": "stderr",
     "output_type": "stream",
     "text": [
      " 12%|█▏        | 23/200 [02:15<18:16,  6.19s/it]"
     ]
    },
    {
     "name": "stdout",
     "output_type": "stream",
     "text": [
      "Epoch 23, Loss: 2.987835168838501, test_Loss: 19.29721450805664, pde_Loss: 2.9183428287506104, boundary_Loss: 3.823153747362085e-06\n"
     ]
    },
    {
     "name": "stderr",
     "output_type": "stream",
     "text": [
      " 12%|█▏        | 24/200 [02:21<18:16,  6.23s/it]"
     ]
    },
    {
     "name": "stdout",
     "output_type": "stream",
     "text": [
      "Epoch 24, Loss: 2.7036421298980713, test_Loss: 17.58492660522461, pde_Loss: 2.667181968688965, boundary_Loss: 2.154684807464946e-06\n"
     ]
    },
    {
     "name": "stderr",
     "output_type": "stream",
     "text": [
      " 12%|█▎        | 25/200 [02:27<18:11,  6.24s/it]"
     ]
    },
    {
     "name": "stdout",
     "output_type": "stream",
     "text": [
      "Epoch 25, Loss: 2.465547800064087, test_Loss: 20.802894592285156, pde_Loss: 2.433535099029541, boundary_Loss: 1.9007587752639665e-06\n"
     ]
    },
    {
     "name": "stderr",
     "output_type": "stream",
     "text": [
      " 13%|█▎        | 26/200 [02:34<18:06,  6.25s/it]"
     ]
    },
    {
     "name": "stdout",
     "output_type": "stream",
     "text": [
      "Epoch 26, Loss: 2.36631441116333, test_Loss: 18.976972579956055, pde_Loss: 2.329529285430908, boundary_Loss: 1.8137707229470834e-06\n"
     ]
    },
    {
     "name": "stderr",
     "output_type": "stream",
     "text": [
      " 14%|█▎        | 27/200 [02:40<17:59,  6.24s/it]"
     ]
    },
    {
     "name": "stdout",
     "output_type": "stream",
     "text": [
      "Epoch 27, Loss: 2.3384146690368652, test_Loss: 19.83420181274414, pde_Loss: 2.3056416511535645, boundary_Loss: 1.5327067330872524e-06\n"
     ]
    },
    {
     "name": "stderr",
     "output_type": "stream",
     "text": [
      " 14%|█▍        | 28/200 [02:46<17:55,  6.25s/it]"
     ]
    },
    {
     "name": "stdout",
     "output_type": "stream",
     "text": [
      "Epoch 28, Loss: 2.211843490600586, test_Loss: 18.827281951904297, pde_Loss: 2.175259828567505, boundary_Loss: 1.750461933625047e-06\n"
     ]
    },
    {
     "name": "stderr",
     "output_type": "stream",
     "text": [
      " 14%|█▍        | 29/200 [02:52<17:47,  6.25s/it]"
     ]
    },
    {
     "name": "stdout",
     "output_type": "stream",
     "text": [
      "Epoch 29, Loss: 2.1839632987976074, test_Loss: 17.51180648803711, pde_Loss: 2.1523444652557373, boundary_Loss: 1.3972012311569415e-06\n"
     ]
    },
    {
     "name": "stderr",
     "output_type": "stream",
     "text": [
      " 15%|█▌        | 30/200 [02:59<17:43,  6.26s/it]"
     ]
    },
    {
     "name": "stdout",
     "output_type": "stream",
     "text": [
      "Epoch 30, Loss: 2.3204920291900635, test_Loss: 18.3878173828125, pde_Loss: 2.288011074066162, boundary_Loss: 1.5262733086274238e-06\n"
     ]
    },
    {
     "name": "stderr",
     "output_type": "stream",
     "text": [
      " 16%|█▌        | 31/200 [03:05<17:38,  6.26s/it]"
     ]
    },
    {
     "name": "stdout",
     "output_type": "stream",
     "text": [
      "Epoch 31, Loss: 24.74675178527832, test_Loss: 18.87054443359375, pde_Loss: 4.736013889312744, boundary_Loss: 0.000827694486360997\n"
     ]
    },
    {
     "name": "stderr",
     "output_type": "stream",
     "text": [
      " 16%|█▌        | 32/200 [03:11<17:33,  6.27s/it]"
     ]
    },
    {
     "name": "stdout",
     "output_type": "stream",
     "text": [
      "Epoch 32, Loss: 3.4777920246124268, test_Loss: 19.6112117767334, pde_Loss: 3.3337175846099854, boundary_Loss: 6.530151040351484e-06\n"
     ]
    },
    {
     "name": "stderr",
     "output_type": "stream",
     "text": [
      " 16%|█▋        | 33/200 [03:17<17:26,  6.27s/it]"
     ]
    },
    {
     "name": "stdout",
     "output_type": "stream",
     "text": [
      "Epoch 33, Loss: 2.477195978164673, test_Loss: 18.898967742919922, pde_Loss: 2.434277057647705, boundary_Loss: 2.0162003693258157e-06\n"
     ]
    },
    {
     "name": "stderr",
     "output_type": "stream",
     "text": [
      " 17%|█▋        | 34/200 [03:24<17:21,  6.27s/it]"
     ]
    },
    {
     "name": "stdout",
     "output_type": "stream",
     "text": [
      "Epoch 34, Loss: 2.310596227645874, test_Loss: 19.317564010620117, pde_Loss: 2.279975414276123, boundary_Loss: 1.472070835006889e-06\n"
     ]
    },
    {
     "name": "stderr",
     "output_type": "stream",
     "text": [
      " 18%|█▊        | 35/200 [03:30<17:14,  6.27s/it]"
     ]
    },
    {
     "name": "stdout",
     "output_type": "stream",
     "text": [
      "Epoch 35, Loss: 2.1890931129455566, test_Loss: 19.91452980041504, pde_Loss: 2.159196615219116, boundary_Loss: 1.219805426444509e-06\n"
     ]
    },
    {
     "name": "stderr",
     "output_type": "stream",
     "text": [
      " 18%|█▊        | 36/200 [03:36<17:08,  6.27s/it]"
     ]
    },
    {
     "name": "stdout",
     "output_type": "stream",
     "text": [
      "Epoch 36, Loss: 2.220402717590332, test_Loss: 18.737415313720703, pde_Loss: 2.1686184406280518, boundary_Loss: 1.752425077938824e-06\n"
     ]
    },
    {
     "name": "stderr",
     "output_type": "stream",
     "text": [
      " 18%|█▊        | 37/200 [03:43<17:03,  6.28s/it]"
     ]
    },
    {
     "name": "stdout",
     "output_type": "stream",
     "text": [
      "Epoch 37, Loss: 2.096426248550415, test_Loss: 19.346479415893555, pde_Loss: 2.0673210620880127, boundary_Loss: 1.012043412629282e-06\n"
     ]
    },
    {
     "name": "stderr",
     "output_type": "stream",
     "text": [
      " 19%|█▉        | 38/200 [03:49<16:57,  6.28s/it]"
     ]
    },
    {
     "name": "stdout",
     "output_type": "stream",
     "text": [
      "Epoch 38, Loss: 2.186608076095581, test_Loss: 18.02071189880371, pde_Loss: 2.1262598037719727, boundary_Loss: 2.2883955352881458e-06\n"
     ]
    },
    {
     "name": "stderr",
     "output_type": "stream",
     "text": [
      " 20%|█▉        | 39/200 [03:55<16:51,  6.28s/it]"
     ]
    },
    {
     "name": "stdout",
     "output_type": "stream",
     "text": [
      "Epoch 39, Loss: 20.68895721435547, test_Loss: 19.72728729248047, pde_Loss: 3.8112361431121826, boundary_Loss: 0.0005211879615671933\n"
     ]
    },
    {
     "name": "stderr",
     "output_type": "stream",
     "text": [
      " 20%|██        | 40/200 [04:01<16:42,  6.27s/it]"
     ]
    },
    {
     "name": "stdout",
     "output_type": "stream",
     "text": [
      "Epoch 40, Loss: 2.6238977909088135, test_Loss: 18.416748046875, pde_Loss: 2.5069689750671387, boundary_Loss: 3.97183111999766e-06\n"
     ]
    },
    {
     "name": "stderr",
     "output_type": "stream",
     "text": [
      " 20%|██        | 41/200 [04:08<16:37,  6.27s/it]"
     ]
    },
    {
     "name": "stdout",
     "output_type": "stream",
     "text": [
      "Epoch 41, Loss: 2.396044969558716, test_Loss: 19.393510818481445, pde_Loss: 2.3552465438842773, boundary_Loss: 1.4279587503551738e-06\n"
     ]
    },
    {
     "name": "stderr",
     "output_type": "stream",
     "text": [
      " 21%|██        | 42/200 [04:14<16:31,  6.27s/it]"
     ]
    },
    {
     "name": "stdout",
     "output_type": "stream",
     "text": [
      "Epoch 42, Loss: 2.182258367538452, test_Loss: 19.225238800048828, pde_Loss: 2.149172306060791, boundary_Loss: 1.124258915297105e-06\n"
     ]
    },
    {
     "name": "stderr",
     "output_type": "stream",
     "text": [
      " 22%|██▏       | 43/200 [04:20<16:25,  6.28s/it]"
     ]
    },
    {
     "name": "stdout",
     "output_type": "stream",
     "text": [
      "Epoch 43, Loss: 2.183000326156616, test_Loss: 18.496612548828125, pde_Loss: 2.1333038806915283, boundary_Loss: 1.474445184612705e-06\n"
     ]
    },
    {
     "name": "stderr",
     "output_type": "stream",
     "text": [
      " 22%|██▏       | 44/200 [04:27<16:19,  6.28s/it]"
     ]
    },
    {
     "name": "stdout",
     "output_type": "stream",
     "text": [
      "Epoch 44, Loss: 1.963059663772583, test_Loss: 19.930051803588867, pde_Loss: 1.926910161972046, boundary_Loss: 1.0618236956361216e-06\n"
     ]
    },
    {
     "name": "stderr",
     "output_type": "stream",
     "text": [
      " 22%|██▎       | 45/200 [04:33<15:41,  6.08s/it]"
     ]
    },
    {
     "name": "stdout",
     "output_type": "stream",
     "text": [
      "Epoch 45, Loss: 1.971732497215271, test_Loss: 19.74213409423828, pde_Loss: 1.9090359210968018, boundary_Loss: 1.8976037381435162e-06\n"
     ]
    },
    {
     "name": "stderr",
     "output_type": "stream",
     "text": [
      "\n"
     ]
    },
    {
     "ename": "OutOfMemoryError",
     "evalue": "CUDA out of memory. Tried to allocate 20.00 MiB. GPU 0 has a total capacity of 5.79 GiB of which 7.81 MiB is free. Including non-PyTorch memory, this process has 5.77 GiB memory in use. Of the allocated memory 5.62 GiB is allocated by PyTorch, and 8.82 MiB is reserved by PyTorch but unallocated. If reserved but unallocated memory is large try setting PYTORCH_CUDA_ALLOC_CONF=expandable_segments:True to avoid fragmentation.  See documentation for Memory Management  (https://pytorch.org/docs/stable/notes/cuda.html#environment-variables)",
     "output_type": "error",
     "traceback": [
      "\u001b[31m---------------------------------------------------------------------------\u001b[39m",
      "\u001b[31mOutOfMemoryError\u001b[39m                          Traceback (most recent call last)",
      "\u001b[36mCell\u001b[39m\u001b[36m \u001b[39m\u001b[32mIn[34]\u001b[39m\u001b[32m, line 11\u001b[39m\n\u001b[32m      9\u001b[39m loss_lst = [loss_pde, loss_bd]\n\u001b[32m     10\u001b[39m \u001b[38;5;28;01mif\u001b[39;00m i == \u001b[32m0\u001b[39m:\n\u001b[32m---> \u001b[39m\u001b[32m11\u001b[39m     lamb = \u001b[43mupdate_lambda\u001b[49m\u001b[43m(\u001b[49m\u001b[43mmodel\u001b[49m\u001b[43m,\u001b[49m\u001b[43m \u001b[49m\u001b[43mloss_lst\u001b[49m\u001b[43m,\u001b[49m\u001b[43m \u001b[49m\u001b[43mlamb\u001b[49m\u001b[43m,\u001b[49m\u001b[43m \u001b[49m\u001b[32;43m0.9\u001b[39;49m\u001b[43m)\u001b[49m\n\u001b[32m     12\u001b[39m     i = \u001b[32m1\u001b[39m\n\u001b[32m     13\u001b[39m loss = loss_pde * lamb[\u001b[32m0\u001b[39m] + loss_bd * lamb[\u001b[32m1\u001b[39m]\n",
      "\u001b[36mCell\u001b[39m\u001b[36m \u001b[39m\u001b[32mIn[26]\u001b[39m\u001b[32m, line 14\u001b[39m, in \u001b[36mupdate_lambda\u001b[39m\u001b[34m(model, loss_lst, lamb_lst, alpha)\u001b[39m\n\u001b[32m     12\u001b[39m grad = []\n\u001b[32m     13\u001b[39m \u001b[38;5;28;01mfor\u001b[39;00m loss \u001b[38;5;129;01min\u001b[39;00m loss_lst:\n\u001b[32m---> \u001b[39m\u001b[32m14\u001b[39m     grad.append(\u001b[43mloss_grad_norm\u001b[49m\u001b[43m(\u001b[49m\u001b[43mloss\u001b[49m\u001b[43m,\u001b[49m\u001b[43m \u001b[49m\u001b[43mmodel\u001b[49m\u001b[43m)\u001b[49m)\n\u001b[32m     15\u001b[39m grad_sum = \u001b[38;5;28msum\u001b[39m(grad)\n\u001b[32m     16\u001b[39m lamb = []\n",
      "\u001b[36mCell\u001b[39m\u001b[36m \u001b[39m\u001b[32mIn[26]\u001b[39m\u001b[32m, line 5\u001b[39m, in \u001b[36mloss_grad_norm\u001b[39m\u001b[34m(loss, model)\u001b[39m\n\u001b[32m      3\u001b[39m loss_clone = loss.clone()\n\u001b[32m      4\u001b[39m \u001b[38;5;28;01mfor\u001b[39;00m params \u001b[38;5;129;01min\u001b[39;00m model.parameters():\n\u001b[32m----> \u001b[39m\u001b[32m5\u001b[39m     loss_grad = \u001b[43mtorch\u001b[49m\u001b[43m.\u001b[49m\u001b[43mautograd\u001b[49m\u001b[43m.\u001b[49m\u001b[43mgrad\u001b[49m\u001b[43m(\u001b[49m\u001b[43mloss_clone\u001b[49m\u001b[43m,\u001b[49m\u001b[43m \u001b[49m\u001b[43mparams\u001b[49m\u001b[43m,\u001b[49m\u001b[43m \u001b[49m\u001b[43mretain_graph\u001b[49m\u001b[43m=\u001b[49m\u001b[38;5;28;43;01mTrue\u001b[39;49;00m\u001b[43m,\u001b[49m\u001b[43m \u001b[49m\u001b[43mallow_unused\u001b[49m\u001b[43m=\u001b[49m\u001b[38;5;28;43;01mTrue\u001b[39;49;00m\u001b[43m,\u001b[49m\u001b[43m \u001b[49m\u001b[43mmaterialize_grads\u001b[49m\u001b[43m=\u001b[49m\u001b[38;5;28;43;01mTrue\u001b[39;49;00m\u001b[43m)\u001b[49m[\u001b[32m0\u001b[39m]\n\u001b[32m      6\u001b[39m     loss_grad_norm += torch.sum(loss_grad**\u001b[32m2\u001b[39m)\n\u001b[32m      7\u001b[39m loss_grad_norm = loss_grad_norm**\u001b[32m0.5\u001b[39m\n",
      "\u001b[36mFile \u001b[39m\u001b[32m~/miniconda3/envs/work/lib/python3.11/site-packages/torch/autograd/__init__.py:496\u001b[39m, in \u001b[36mgrad\u001b[39m\u001b[34m(outputs, inputs, grad_outputs, retain_graph, create_graph, only_inputs, allow_unused, is_grads_batched, materialize_grads)\u001b[39m\n\u001b[32m    492\u001b[39m     result = _vmap_internals._vmap(vjp, \u001b[32m0\u001b[39m, \u001b[32m0\u001b[39m, allow_none_pass_through=\u001b[38;5;28;01mTrue\u001b[39;00m)(\n\u001b[32m    493\u001b[39m         grad_outputs_\n\u001b[32m    494\u001b[39m     )\n\u001b[32m    495\u001b[39m \u001b[38;5;28;01melse\u001b[39;00m:\n\u001b[32m--> \u001b[39m\u001b[32m496\u001b[39m     result = \u001b[43m_engine_run_backward\u001b[49m\u001b[43m(\u001b[49m\n\u001b[32m    497\u001b[39m \u001b[43m        \u001b[49m\u001b[43moutputs\u001b[49m\u001b[43m,\u001b[49m\n\u001b[32m    498\u001b[39m \u001b[43m        \u001b[49m\u001b[43mgrad_outputs_\u001b[49m\u001b[43m,\u001b[49m\n\u001b[32m    499\u001b[39m \u001b[43m        \u001b[49m\u001b[43mretain_graph\u001b[49m\u001b[43m,\u001b[49m\n\u001b[32m    500\u001b[39m \u001b[43m        \u001b[49m\u001b[43mcreate_graph\u001b[49m\u001b[43m,\u001b[49m\n\u001b[32m    501\u001b[39m \u001b[43m        \u001b[49m\u001b[43minputs\u001b[49m\u001b[43m,\u001b[49m\n\u001b[32m    502\u001b[39m \u001b[43m        \u001b[49m\u001b[43mallow_unused\u001b[49m\u001b[43m,\u001b[49m\n\u001b[32m    503\u001b[39m \u001b[43m        \u001b[49m\u001b[43maccumulate_grad\u001b[49m\u001b[43m=\u001b[49m\u001b[38;5;28;43;01mFalse\u001b[39;49;00m\u001b[43m,\u001b[49m\n\u001b[32m    504\u001b[39m \u001b[43m    \u001b[49m\u001b[43m)\u001b[49m\n\u001b[32m    505\u001b[39m \u001b[38;5;28;01mif\u001b[39;00m materialize_grads:\n\u001b[32m    506\u001b[39m     \u001b[38;5;28;01mif\u001b[39;00m \u001b[38;5;28many\u001b[39m(\n\u001b[32m    507\u001b[39m         result[i] \u001b[38;5;129;01mis\u001b[39;00m \u001b[38;5;28;01mNone\u001b[39;00m \u001b[38;5;129;01mand\u001b[39;00m \u001b[38;5;129;01mnot\u001b[39;00m is_tensor_like(inputs[i])\n\u001b[32m    508\u001b[39m         \u001b[38;5;28;01mfor\u001b[39;00m i \u001b[38;5;129;01min\u001b[39;00m \u001b[38;5;28mrange\u001b[39m(\u001b[38;5;28mlen\u001b[39m(inputs))\n\u001b[32m    509\u001b[39m     ):\n",
      "\u001b[36mFile \u001b[39m\u001b[32m~/miniconda3/envs/work/lib/python3.11/site-packages/torch/autograd/graph.py:823\u001b[39m, in \u001b[36m_engine_run_backward\u001b[39m\u001b[34m(t_outputs, *args, **kwargs)\u001b[39m\n\u001b[32m    821\u001b[39m     unregister_hooks = _register_logging_hooks_on_whole_graph(t_outputs)\n\u001b[32m    822\u001b[39m \u001b[38;5;28;01mtry\u001b[39;00m:\n\u001b[32m--> \u001b[39m\u001b[32m823\u001b[39m     \u001b[38;5;28;01mreturn\u001b[39;00m \u001b[43mVariable\u001b[49m\u001b[43m.\u001b[49m\u001b[43m_execution_engine\u001b[49m\u001b[43m.\u001b[49m\u001b[43mrun_backward\u001b[49m\u001b[43m(\u001b[49m\u001b[43m  \u001b[49m\u001b[38;5;66;43;03m# Calls into the C++ engine to run the backward pass\u001b[39;49;00m\n\u001b[32m    824\u001b[39m \u001b[43m        \u001b[49m\u001b[43mt_outputs\u001b[49m\u001b[43m,\u001b[49m\u001b[43m \u001b[49m\u001b[43m*\u001b[49m\u001b[43margs\u001b[49m\u001b[43m,\u001b[49m\u001b[43m \u001b[49m\u001b[43m*\u001b[49m\u001b[43m*\u001b[49m\u001b[43mkwargs\u001b[49m\n\u001b[32m    825\u001b[39m \u001b[43m    \u001b[49m\u001b[43m)\u001b[49m  \u001b[38;5;66;03m# Calls into the C++ engine to run the backward pass\u001b[39;00m\n\u001b[32m    826\u001b[39m \u001b[38;5;28;01mfinally\u001b[39;00m:\n\u001b[32m    827\u001b[39m     \u001b[38;5;28;01mif\u001b[39;00m attach_logging_hooks:\n",
      "\u001b[31mOutOfMemoryError\u001b[39m: CUDA out of memory. Tried to allocate 20.00 MiB. GPU 0 has a total capacity of 5.79 GiB of which 7.81 MiB is free. Including non-PyTorch memory, this process has 5.77 GiB memory in use. Of the allocated memory 5.62 GiB is allocated by PyTorch, and 8.82 MiB is reserved by PyTorch but unallocated. If reserved but unallocated memory is large try setting PYTORCH_CUDA_ALLOC_CONF=expandable_segments:True to avoid fragmentation.  See documentation for Memory Management  (https://pytorch.org/docs/stable/notes/cuda.html#environment-variables)"
     ]
    }
   ],
   "source": [
    "model = model.to(device)\n",
    "for epoch in tqdm(range(n_epochs)):\n",
    "    i = 0\n",
    "    for gt in dataloader:\n",
    "        optimizer.zero_grad()\n",
    "        ref = gt[:, 2:4]\n",
    "        loss_pde = loss_fn(model, gt[:, 0:2], gt[:, 4:], k)\n",
    "        loss_bd = loss_boundary(model, boundary, k)\n",
    "        loss_lst = [loss_pde, loss_bd]\n",
    "        if i == 0:\n",
    "            lamb = update_lambda(model, loss_lst, lamb, 0.9)\n",
    "            i = 1\n",
    "        loss = loss_pde * lamb[0] + loss_bd * lamb[1]\n",
    "        loss.backward()\n",
    "        optimizer.step()\n",
    "    \n",
    "    l_pde.append(loss_pde)\n",
    "    l_bd.append(loss_bd)\n",
    "    loss_real = ((model(gt[:, 0:2].to(device)) - ref.to(device)) ** 2).sum()\n",
    "    l_real.append(loss_real)\n",
    "    print(f'Epoch {epoch+1}, Loss: {loss.item()}, test_Loss: {loss_real.item()}, pde_Loss: {loss_pde.item()}, boundary_Loss: {loss_bd.item()}')"
   ]
  },
  {
   "cell_type": "code",
   "execution_count": 35,
   "id": "43b8fe9f-1981-4993-a006-a532fafda58e",
   "metadata": {},
   "outputs": [
    {
     "data": {
      "text/plain": [
       "['model_no_boundary.joblib']"
      ]
     },
     "execution_count": 35,
     "metadata": {},
     "output_type": "execute_result"
    }
   ],
   "source": [
    "import joblib\n",
    "joblib.dump(model.state_dict(), 'model_no_boundary.joblib')"
   ]
  },
  {
   "cell_type": "code",
   "execution_count": 36,
   "id": "cefce045-c783-404c-9e47-3b962d5fd58b",
   "metadata": {},
   "outputs": [
    {
     "data": {
      "image/png": "[encoded data removed]",
      "text/plain": [
       "<Figure size 800x300 with 4 Axes>"
      ]
     },
     "metadata": {},
     "output_type": "display_data"
    }
   ],
   "source": [
    "model_pred(model, Lx, Ly)"
   ]
  },
  {
   "cell_type": "code",
   "execution_count": 55,
   "id": "ceb75b1d-5ced-4688-ac1e-d3b63863f1a6",
   "metadata": {},
   "outputs": [],
   "source": [
    "def plot_cut(model):\n",
    "    x, y = torch.linspace(0, 0.5, 100), torch.zeros(100)\n",
    "    x, y = x.reshape(-1, 1), y.reshape(-1, 1)\n",
    "    xy = torch.cat([x, y], dim=-1)\n",
    "    p = model(xy)\n",
    "\n",
    "    import scipy\n",
    "    xx = np.linspace(0, 0.5, 100)\n",
    "    hankel = scipy.special.hankel2(0, 20 * xx) * 0.25j\n",
    "    plt.plot(x.detach().numpy(), (p[:, 0:1]).detach().numpy(), xx, hankel.real)"
   ]
  },
  {
   "cell_type": "code",
   "execution_count": 56,
   "id": "48a7027d-8b36-42f8-aa74-629a2d9a2654",
   "metadata": {},
   "outputs": [
    {
     "name": "stderr",
     "output_type": "stream",
     "text": [
      "/tmp/ipykernel_28292/222225716.py:9: RuntimeWarning: invalid value encountered in multiply\n",
      "  hankel = scipy.special.hankel2(0, 20 * xx) * 0.25j\n"
     ]
    },
    {
     "data": {
      "image/png": "[encoded data removed]",
      "text/plain": [
       "<Figure size 640x480 with 1 Axes>"
      ]
     },
     "metadata": {},
     "output_type": "display_data"
    }
   ],
   "source": [
    "plot_cut(model.to('cpu'))"
   ]
  },
  {
   "cell_type": "code",
   "execution_count": 20,
   "id": "e747a2ad-da29-4b83-b102-cebfeedf81c8",
   "metadata": {},
   "outputs": [
    {
     "data": {
      "text/plain": [
       "[tensor(1.0118, device='cuda:0'), tensor(92.1865, device='cuda:0')]"
      ]
     },
     "execution_count": 20,
     "metadata": {},
     "output_type": "execute_result"
    }
   ],
   "source": [
    "lamb"
   ]
  }
 ],
 "metadata": {
  "kernelspec": {
   "display_name": "Python 3 (ipykernel)",
   "language": "python",
   "name": "python3"
  },
  "language_info": {
   "codemirror_mode": {
    "name": "ipython",
    "version": 3
   },
   "file_extension": ".py",
   "mimetype": "text/x-python",
   "name": "python",
   "nbconvert_exporter": "python",
   "pygments_lexer": "ipython3",
   "version": "3.11.11"
  }
 },
 "nbformat": 4,
 "nbformat_minor": 5
}
